{
 "cells": [
  {
   "cell_type": "markdown",
   "metadata": {},
   "source": [
    "The name of the bot in Telegram is: @ArmyFitness_bot"
   ]
  },
  {
   "cell_type": "markdown",
   "metadata": {},
   "source": [
    "You can use this token to access HTTP API:\n",
    "7043652644:AAF69ahGAIVgyCJiNyLY8jfrlURc26qzXVk"
   ]
  }
 ],
 "metadata": {
  "language_info": {
   "name": "python"
  }
 },
 "nbformat": 4,
 "nbformat_minor": 2
}
